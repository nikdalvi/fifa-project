{
 "cells": [
  {
   "cell_type": "code",
   "execution_count": 1,
   "metadata": {},
   "outputs": [],
   "source": [
    "# import the modules\n",
    "import pandas as pd\n",
    "import numpy as np\n",
    "from scipy import stats\n",
    "import math\n",
    "from statsmodels.stats.weightstats import ztest\n",
    "import scipy\n",
    "import matplotlib.pyplot as plt\n",
    "import seaborn as sns\n",
    "from sklearn.linear_model import LinearRegression, LogisticRegression\n",
    "from sklearn.model_selection import train_test_split\n",
    "from sklearn.metrics import mean_absolute_error, mean_squared_error\n",
    "from sklearn.metrics import r2_score\n"
   ]
  },
  {
   "cell_type": "markdown",
   "metadata": {},
   "source": [
    "### Load the dataset\n",
    "\n",
    "- Load the train data and using all your knowledge of pandas try to explore the different statistical properties of the dataset."
   ]
  },
  {
   "cell_type": "code",
   "execution_count": 2,
   "metadata": {},
   "outputs": [],
   "source": [
    "# read the dataset and extract the features and target separately\n",
    "train = pd.read_csv('train.csv')"
   ]
  },
  {
   "cell_type": "code",
   "execution_count": 3,
   "metadata": {},
   "outputs": [
    {
     "data": {
      "text/html": [
       "<div>\n",
       "<style scoped>\n",
       "    .dataframe tbody tr th:only-of-type {\n",
       "        vertical-align: middle;\n",
       "    }\n",
       "\n",
       "    .dataframe tbody tr th {\n",
       "        vertical-align: top;\n",
       "    }\n",
       "\n",
       "    .dataframe thead th {\n",
       "        text-align: right;\n",
       "    }\n",
       "</style>\n",
       "<table border=\"1\" class=\"dataframe\">\n",
       "  <thead>\n",
       "    <tr style=\"text-align: right;\">\n",
       "      <th></th>\n",
       "      <th>Id</th>\n",
       "      <th>Name</th>\n",
       "      <th>Age</th>\n",
       "      <th>Nationality</th>\n",
       "      <th>Overall</th>\n",
       "      <th>Potential</th>\n",
       "      <th>Club</th>\n",
       "      <th>Value (M)</th>\n",
       "      <th>Wage (M)</th>\n",
       "      <th>Position</th>\n",
       "    </tr>\n",
       "  </thead>\n",
       "  <tbody>\n",
       "    <tr>\n",
       "      <th>0</th>\n",
       "      <td>17221</td>\n",
       "      <td>F. Burdenski</td>\n",
       "      <td>25</td>\n",
       "      <td>Germany</td>\n",
       "      <td>54</td>\n",
       "      <td>58</td>\n",
       "      <td>Korona Kielce</td>\n",
       "      <td>0.070</td>\n",
       "      <td>0.001</td>\n",
       "      <td>CDM</td>\n",
       "    </tr>\n",
       "    <tr>\n",
       "      <th>1</th>\n",
       "      <td>11353</td>\n",
       "      <td>A. Deiola</td>\n",
       "      <td>21</td>\n",
       "      <td>Italy</td>\n",
       "      <td>64</td>\n",
       "      <td>73</td>\n",
       "      <td>Cagliari</td>\n",
       "      <td>0.700</td>\n",
       "      <td>0.010</td>\n",
       "      <td>CM</td>\n",
       "    </tr>\n",
       "    <tr>\n",
       "      <th>2</th>\n",
       "      <td>3402</td>\n",
       "      <td>T. Castagne</td>\n",
       "      <td>21</td>\n",
       "      <td>Belgium</td>\n",
       "      <td>72</td>\n",
       "      <td>79</td>\n",
       "      <td>Atalanta</td>\n",
       "      <td>3.700</td>\n",
       "      <td>0.013</td>\n",
       "      <td>RB</td>\n",
       "    </tr>\n",
       "    <tr>\n",
       "      <th>3</th>\n",
       "      <td>16071</td>\n",
       "      <td>D. Gorman</td>\n",
       "      <td>21</td>\n",
       "      <td>Northern Ireland</td>\n",
       "      <td>57</td>\n",
       "      <td>66</td>\n",
       "      <td>Stevenage</td>\n",
       "      <td>0.160</td>\n",
       "      <td>0.002</td>\n",
       "      <td>CM</td>\n",
       "    </tr>\n",
       "    <tr>\n",
       "      <th>4</th>\n",
       "      <td>12380</td>\n",
       "      <td>N. Molina Lucero</td>\n",
       "      <td>19</td>\n",
       "      <td>Argentina</td>\n",
       "      <td>63</td>\n",
       "      <td>75</td>\n",
       "      <td>Boca Juniors</td>\n",
       "      <td>0.550</td>\n",
       "      <td>0.002</td>\n",
       "      <td>LB</td>\n",
       "    </tr>\n",
       "    <tr>\n",
       "      <th>...</th>\n",
       "      <td>...</td>\n",
       "      <td>...</td>\n",
       "      <td>...</td>\n",
       "      <td>...</td>\n",
       "      <td>...</td>\n",
       "      <td>...</td>\n",
       "      <td>...</td>\n",
       "      <td>...</td>\n",
       "      <td>...</td>\n",
       "      <td>...</td>\n",
       "    </tr>\n",
       "    <tr>\n",
       "      <th>14379</th>\n",
       "      <td>7243</td>\n",
       "      <td>V. Podberezkin</td>\n",
       "      <td>25</td>\n",
       "      <td>Russia</td>\n",
       "      <td>68</td>\n",
       "      <td>69</td>\n",
       "      <td>FC Krasnodar</td>\n",
       "      <td>1.100</td>\n",
       "      <td>0.022</td>\n",
       "      <td>LM</td>\n",
       "    </tr>\n",
       "    <tr>\n",
       "      <th>14380</th>\n",
       "      <td>8527</td>\n",
       "      <td>S. Elbers</td>\n",
       "      <td>25</td>\n",
       "      <td>Netherlands</td>\n",
       "      <td>67</td>\n",
       "      <td>70</td>\n",
       "      <td>Excelsior</td>\n",
       "      <td>0.950</td>\n",
       "      <td>0.007</td>\n",
       "      <td>LM</td>\n",
       "    </tr>\n",
       "    <tr>\n",
       "      <th>14381</th>\n",
       "      <td>4714</td>\n",
       "      <td>G. Terziev</td>\n",
       "      <td>25</td>\n",
       "      <td>Bulgaria</td>\n",
       "      <td>71</td>\n",
       "      <td>76</td>\n",
       "      <td>NaN</td>\n",
       "      <td>0.000</td>\n",
       "      <td>0.000</td>\n",
       "      <td>RB</td>\n",
       "    </tr>\n",
       "    <tr>\n",
       "      <th>14382</th>\n",
       "      <td>10196</td>\n",
       "      <td>D. Petković</td>\n",
       "      <td>24</td>\n",
       "      <td>Montenegro</td>\n",
       "      <td>65</td>\n",
       "      <td>70</td>\n",
       "      <td>FC Lorient</td>\n",
       "      <td>0.525</td>\n",
       "      <td>0.002</td>\n",
       "      <td>GK</td>\n",
       "    </tr>\n",
       "    <tr>\n",
       "      <th>14383</th>\n",
       "      <td>8419</td>\n",
       "      <td>F. Stanco</td>\n",
       "      <td>30</td>\n",
       "      <td>Italy</td>\n",
       "      <td>67</td>\n",
       "      <td>67</td>\n",
       "      <td>Cremonese</td>\n",
       "      <td>0.725</td>\n",
       "      <td>0.003</td>\n",
       "      <td>ST</td>\n",
       "    </tr>\n",
       "  </tbody>\n",
       "</table>\n",
       "<p>14384 rows × 10 columns</p>\n",
       "</div>"
      ],
      "text/plain": [
       "          Id              Name  Age       Nationality  Overall  Potential  \\\n",
       "0      17221      F. Burdenski   25           Germany       54         58   \n",
       "1      11353         A. Deiola   21             Italy       64         73   \n",
       "2       3402       T. Castagne   21           Belgium       72         79   \n",
       "3      16071         D. Gorman   21  Northern Ireland       57         66   \n",
       "4      12380  N. Molina Lucero   19         Argentina       63         75   \n",
       "...      ...               ...  ...               ...      ...        ...   \n",
       "14379   7243    V. Podberezkin   25            Russia       68         69   \n",
       "14380   8527         S. Elbers   25       Netherlands       67         70   \n",
       "14381   4714        G. Terziev   25          Bulgaria       71         76   \n",
       "14382  10196       D. Petković   24        Montenegro       65         70   \n",
       "14383   8419         F. Stanco   30             Italy       67         67   \n",
       "\n",
       "                Club  Value (M)  Wage (M) Position  \n",
       "0      Korona Kielce      0.070     0.001      CDM  \n",
       "1           Cagliari      0.700     0.010       CM  \n",
       "2           Atalanta      3.700     0.013       RB  \n",
       "3          Stevenage      0.160     0.002       CM  \n",
       "4       Boca Juniors      0.550     0.002       LB  \n",
       "...              ...        ...       ...      ...  \n",
       "14379   FC Krasnodar      1.100     0.022       LM  \n",
       "14380      Excelsior      0.950     0.007       LM  \n",
       "14381            NaN      0.000     0.000       RB  \n",
       "14382     FC Lorient      0.525     0.002       GK  \n",
       "14383      Cremonese      0.725     0.003       ST  \n",
       "\n",
       "[14384 rows x 10 columns]"
      ]
     },
     "execution_count": 3,
     "metadata": {},
     "output_type": "execute_result"
    }
   ],
   "source": [
    "train"
   ]
  },
  {
   "cell_type": "code",
   "execution_count": 4,
   "metadata": {},
   "outputs": [
    {
     "name": "stdout",
     "output_type": "stream",
     "text": [
      "<class 'pandas.core.frame.DataFrame'>\n",
      "RangeIndex: 14384 entries, 0 to 14383\n",
      "Data columns (total 10 columns):\n",
      " #   Column       Non-Null Count  Dtype  \n",
      "---  ------       --------------  -----  \n",
      " 0   Id           14384 non-null  int64  \n",
      " 1   Name         14384 non-null  object \n",
      " 2   Age          14384 non-null  int64  \n",
      " 3   Nationality  14384 non-null  object \n",
      " 4   Overall      14384 non-null  int64  \n",
      " 5   Potential    14384 non-null  int64  \n",
      " 6   Club         14173 non-null  object \n",
      " 7   Value (M)    14384 non-null  float64\n",
      " 8   Wage (M)     14384 non-null  float64\n",
      " 9   Position     14384 non-null  object \n",
      "dtypes: float64(2), int64(4), object(4)\n",
      "memory usage: 1.1+ MB\n"
     ]
    }
   ],
   "source": [
    "train.info()"
   ]
  },
  {
   "cell_type": "code",
   "execution_count": 5,
   "metadata": {},
   "outputs": [],
   "source": [
    "random_key = 6\n",
    "X = train[['Age','Overall','Potential','Wage (M)']]\n",
    "y = train['Value (M)']\n",
    "\n",
    "X_train, X_test, y_train, y_test = train_test_split(X,y, test_size = 0.3, random_state=random_key)"
   ]
  },
  {
   "cell_type": "code",
   "execution_count": 6,
   "metadata": {},
   "outputs": [
    {
     "data": {
      "text/html": [
       "<div>\n",
       "<style scoped>\n",
       "    .dataframe tbody tr th:only-of-type {\n",
       "        vertical-align: middle;\n",
       "    }\n",
       "\n",
       "    .dataframe tbody tr th {\n",
       "        vertical-align: top;\n",
       "    }\n",
       "\n",
       "    .dataframe thead th {\n",
       "        text-align: right;\n",
       "    }\n",
       "</style>\n",
       "<table border=\"1\" class=\"dataframe\">\n",
       "  <thead>\n",
       "    <tr style=\"text-align: right;\">\n",
       "      <th></th>\n",
       "      <th>Age</th>\n",
       "      <th>Overall</th>\n",
       "      <th>Potential</th>\n",
       "      <th>Wage (M)</th>\n",
       "    </tr>\n",
       "  </thead>\n",
       "  <tbody>\n",
       "    <tr>\n",
       "      <th>9385</th>\n",
       "      <td>22</td>\n",
       "      <td>72</td>\n",
       "      <td>81</td>\n",
       "      <td>0.007</td>\n",
       "    </tr>\n",
       "    <tr>\n",
       "      <th>11254</th>\n",
       "      <td>18</td>\n",
       "      <td>54</td>\n",
       "      <td>68</td>\n",
       "      <td>0.003</td>\n",
       "    </tr>\n",
       "    <tr>\n",
       "      <th>4606</th>\n",
       "      <td>31</td>\n",
       "      <td>74</td>\n",
       "      <td>74</td>\n",
       "      <td>0.024</td>\n",
       "    </tr>\n",
       "    <tr>\n",
       "      <th>2269</th>\n",
       "      <td>28</td>\n",
       "      <td>73</td>\n",
       "      <td>73</td>\n",
       "      <td>0.001</td>\n",
       "    </tr>\n",
       "    <tr>\n",
       "      <th>5841</th>\n",
       "      <td>29</td>\n",
       "      <td>77</td>\n",
       "      <td>77</td>\n",
       "      <td>0.125</td>\n",
       "    </tr>\n",
       "    <tr>\n",
       "      <th>...</th>\n",
       "      <td>...</td>\n",
       "      <td>...</td>\n",
       "      <td>...</td>\n",
       "      <td>...</td>\n",
       "    </tr>\n",
       "    <tr>\n",
       "      <th>8527</th>\n",
       "      <td>35</td>\n",
       "      <td>69</td>\n",
       "      <td>69</td>\n",
       "      <td>0.003</td>\n",
       "    </tr>\n",
       "    <tr>\n",
       "      <th>4714</th>\n",
       "      <td>32</td>\n",
       "      <td>68</td>\n",
       "      <td>68</td>\n",
       "      <td>0.021</td>\n",
       "    </tr>\n",
       "    <tr>\n",
       "      <th>10196</th>\n",
       "      <td>28</td>\n",
       "      <td>62</td>\n",
       "      <td>64</td>\n",
       "      <td>0.002</td>\n",
       "    </tr>\n",
       "    <tr>\n",
       "      <th>8419</th>\n",
       "      <td>19</td>\n",
       "      <td>59</td>\n",
       "      <td>79</td>\n",
       "      <td>0.003</td>\n",
       "    </tr>\n",
       "    <tr>\n",
       "      <th>2761</th>\n",
       "      <td>20</td>\n",
       "      <td>71</td>\n",
       "      <td>77</td>\n",
       "      <td>0.015</td>\n",
       "    </tr>\n",
       "  </tbody>\n",
       "</table>\n",
       "<p>10068 rows × 4 columns</p>\n",
       "</div>"
      ],
      "text/plain": [
       "       Age  Overall  Potential  Wage (M)\n",
       "9385    22       72         81     0.007\n",
       "11254   18       54         68     0.003\n",
       "4606    31       74         74     0.024\n",
       "2269    28       73         73     0.001\n",
       "5841    29       77         77     0.125\n",
       "...    ...      ...        ...       ...\n",
       "8527    35       69         69     0.003\n",
       "4714    32       68         68     0.021\n",
       "10196   28       62         64     0.002\n",
       "8419    19       59         79     0.003\n",
       "2761    20       71         77     0.015\n",
       "\n",
       "[10068 rows x 4 columns]"
      ]
     },
     "execution_count": 6,
     "metadata": {},
     "output_type": "execute_result"
    }
   ],
   "source": [
    "X_train"
   ]
  },
  {
   "cell_type": "markdown",
   "metadata": {},
   "source": [
    "### Visualize the data\n",
    "\n",
    "- Check for the categorical & continuous features. \n",
    "- Check out the best plots for plotting between categorical target and continuous features and try making some inferences from these plots.\n",
    "- Check for the correlation between the features"
   ]
  },
  {
   "cell_type": "code",
   "execution_count": 7,
   "metadata": {},
   "outputs": [
    {
     "data": {
      "image/png": "[encoded data removed]",
      "text/plain": [
       "<Figure size 504x504 with 1 Axes>"
      ]
     },
     "metadata": {
      "needs_background": "light"
     },
     "output_type": "display_data"
    },
    {
     "data": {
      "image/png": "[encoded data removed]",
      "text/plain": [
       "<Figure size 504x504 with 1 Axes>"
      ]
     },
     "metadata": {
      "needs_background": "light"
     },
     "output_type": "display_data"
    },
    {
     "data": {
      "image/png": "[encoded data removed]",
      "text/plain": [
       "<Figure size 504x504 with 1 Axes>"
      ]
     },
     "metadata": {
      "needs_background": "light"
     },
     "output_type": "display_data"
    },
    {
     "data": {
      "image/png": "[encoded data removed]",
      "text/plain": [
       "<Figure size 504x504 with 1 Axes>"
      ]
     },
     "metadata": {
      "needs_background": "light"
     },
     "output_type": "display_data"
    }
   ],
   "source": [
    "# Code Starts here\n",
    "\n",
    "def show_boxplot(col_data, x_label, y_label, title, fig_size=(7, 7), show_outliers=True):\n",
    "    \"\"\"\n",
    "    Shows boxplot with means\n",
    "    \n",
    "    Params:\n",
    "    -------\n",
    "    col_data: list or numpy array\n",
    "    x_label: str\n",
    "    y_label: str\n",
    "    title: str\n",
    "    fig_size: tupe of (int, int)\n",
    "    show_outliers: bool\n",
    "    \"\"\"\n",
    "    fig = plt.figure(figsize=fig_size)\n",
    "    plt.boxplot(col_data, showmeans=True, showfliers=show_outliers)\n",
    "    plt.title(title, fontsize=21, color='navy')\n",
    "    plt.xlabel(x_label)\n",
    "    plt.ylabel(y_label)\n",
    "    plt.show()\n",
    "\n",
    "for col in X_train.select_dtypes(include=np.number).columns:\n",
    "    x_label = col\n",
    "    y_label = 'Distribution'\n",
    "    data = X_train[col]\n",
    "    title = f'Distribution for {col}'\n",
    "    show_boxplot(col_data=data, x_label=x_label, y_label=y_label, title=title)\n",
    "# Code ends here"
   ]
  },
  {
   "cell_type": "code",
   "execution_count": 8,
   "metadata": {},
   "outputs": [
    {
     "data": {
      "text/plain": [
       "<matplotlib.axes._subplots.AxesSubplot at 0x1b7a122d608>"
      ]
     },
     "execution_count": 8,
     "metadata": {},
     "output_type": "execute_result"
    },
    {
     "data": {
      "image/png": "[encoded data removed]",
      "text/plain": [
       "<Figure size 432x288 with 2 Axes>"
      ]
     },
     "metadata": {
      "needs_background": "light"
     },
     "output_type": "display_data"
    }
   ],
   "source": [
    "sns.heatmap(X_train.corr())"
   ]
  },
  {
   "cell_type": "code",
   "execution_count": 9,
   "metadata": {},
   "outputs": [
    {
     "name": "stdout",
     "output_type": "stream",
     "text": [
      "Id         Overall     -0.975595\n",
      "Overall    Id          -0.975595\n",
      "Id         Potential   -0.653503\n",
      "Potential  Id          -0.653503\n",
      "Id         Value (M)   -0.548213\n",
      "Value (M)  Id          -0.548213\n",
      "Id         Wage (M)    -0.519570\n",
      "Wage (M)   Id          -0.519570\n",
      "Potential  Wage (M)     0.512910\n",
      "Wage (M)   Potential    0.512910\n",
      "Overall    Wage (M)     0.589736\n",
      "Wage (M)   Overall      0.589736\n",
      "Potential  Value (M)    0.595095\n",
      "Value (M)  Potential    0.595095\n",
      "Overall    Value (M)    0.635618\n",
      "Value (M)  Overall      0.635618\n",
      "Overall    Potential    0.678228\n",
      "Potential  Overall      0.678228\n",
      "Wage (M)   Value (M)    0.845124\n",
      "Value (M)  Wage (M)     0.845124\n",
      "dtype: float64\n"
     ]
    }
   ],
   "source": [
    "upper_threshold = 0.5\n",
    "lower_threshold = -0.5\n",
    "\n",
    "\n",
    "# List the correlation pairs\n",
    "correlation = train.corr().unstack().sort_values(kind='quicksort')\n",
    "\n",
    "# Select the highest correlation pairs having correlation greater than upper threshold and lower than lower threshold\n",
    "corr_var_list = correlation[((correlation>upper_threshold) | (correlation<lower_threshold)) & (correlation!=1)]\n",
    "print(corr_var_list)"
   ]
  },
  {
   "cell_type": "markdown",
   "metadata": {},
   "source": [
    "### Model building\n",
    "\n",
    "- Separate the features and target and then split the train data into train and validation set.\n",
    "- Now let's come to the actual task, using linear regression, predict the `Value (M)`. \n",
    "- Try improving upon the `r2_score` (R-Square) using different parameters that give the best score. You can use higher degree [Polynomial Features of sklearn](https://scikit-learn.org/stable/modules/generated/sklearn.preprocessing.PolynomialFeatures.html) to improve the model prediction. \n",
    "\n"
   ]
  },
  {
   "cell_type": "code",
   "execution_count": 10,
   "metadata": {},
   "outputs": [
    {
     "name": "stdout",
     "output_type": "stream",
     "text": [
      "Mean Absolute Error : 1.36113034368551\n",
      "R-Square : 0.7728182411379437\n",
      "--------------------\n",
      "R-Square : 0.9748469694258696\n",
      "Mean Absolute Error : 0.3528900386871176\n"
     ]
    }
   ],
   "source": [
    "# Code Starts here\n",
    "linreg = LinearRegression()\n",
    "logreg = LogisticRegression()\n",
    "#y = np.log(y_train)\n",
    "\n",
    "linreg.fit(X_train,y_train)\n",
    "y_pred = linreg.predict(X_test)\n",
    "# display predictions\n",
    "print('Mean Absolute Error :',(mean_absolute_error(y_test,y_pred)))\n",
    "print('R-Square :',r2_score(y_test,y_pred))\n",
    "# Code ends here\n",
    "\n",
    "print('-'*20)\n",
    "\n",
    "#Polynomial Feature\n",
    "from sklearn.preprocessing import PolynomialFeatures\n",
    "\n",
    "poly = PolynomialFeatures(4)\n",
    "X_train_2 = poly.fit_transform(X_train)\n",
    "X_test_2 = poly.transform(X_test)\n",
    "\n",
    "model = LinearRegression()\n",
    "model.fit(X_train_2, y_train)\n",
    "\n",
    "y_pred_2 = model.predict(X_test_2)\n",
    "\n",
    "r2 = r2_score(y_test,y_pred_2)\n",
    "print(\"R-Square :\", r2)\n",
    "\n",
    "mae = mean_absolute_error(y_test, y_pred_2)\n",
    "print('Mean Absolute Error :', mae)"
   ]
  },
  {
   "cell_type": "markdown",
   "metadata": {},
   "source": [
    "### Prediction on the test data and creating the sample submission file.\n",
    "\n",
    "- Load the test data and store the `Id` column in a separate variable.\n",
    "- Perform the same operations on the test data that you have performed on the train data.\n",
    "- Create the submission file as a `csv` file consisting of the `Id` column from the test data and your prediction as the second column."
   ]
  },
  {
   "cell_type": "code",
   "execution_count": 11,
   "metadata": {},
   "outputs": [],
   "source": [
    "# Code Starts here\n",
    "test = pd.read_csv('test.csv')\n",
    "Id = test['Id']\n",
    "test = test.drop([\"Name\",\"Nationality\",\"Club\",\"Position\",'Id'],axis=1)\n",
    "\n",
    "test_poly = poly.transform(test)\n",
    "y_pred_1 = model.predict(test_poly)\n",
    "y_pred_1 = y_pred_1.flatten()\n",
    "id_1=pd.DataFrame({'Id':id,'Value (M)':y_pred_1})\n",
    "id_1.to_csv(\"submission.csv\", encoding='utf-8', index=False)\n",
    "# Code ends here"
   ]
  }
 ],
 "metadata": {
  "kernelspec": {
   "display_name": "Python 3",
   "language": "python",
   "name": "python3"
  },
  "language_info": {
   "codemirror_mode": {
    "name": "ipython",
    "version": 3
   },
   "file_extension": ".py",
   "mimetype": "text/x-python",
   "name": "python",
   "nbconvert_exporter": "python",
   "pygments_lexer": "ipython3",
   "version": "3.7.6"
  }
 },
 "nbformat": 4,
 "nbformat_minor": 4
}
